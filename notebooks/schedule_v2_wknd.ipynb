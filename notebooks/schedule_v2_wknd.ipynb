{
 "cells": [
  {
   "cell_type": "code",
   "execution_count": 1,
   "metadata": {},
   "outputs": [],
   "source": [
    "import pandas as pd\n",
    "import os\n",
    "import pathlib"
   ]
  },
  {
   "cell_type": "code",
   "execution_count": 3,
   "metadata": {},
   "outputs": [],
   "source": [
    "datafile = '..\\data\\schedule.xlsx'\n",
    "vac = pd.read_excel(datafile,sheet_name='Vacation')\n",
    "days = pd.read_excel(datafile,sheet_name='Days')\n",
    "weeks = list(set(days.week))\n",
    "vac_sched = days.merge(vac,on='Date')\n",
    "\n",
    "#build list of all potential months call work time units (week or weekend)\n",
    "#and assign this an index\n",
    "potential_call = days.callshiftassignment.drop_duplicates()\\\n",
    "    .reset_index().drop('index',axis=1).reset_index()\n",
    "\n",
    "\n",
    "vac_slots = vac_sched[['week','callshiftassignment','Person']].drop_duplicates()\\\n",
    "    .sort_values(by=['week','Person'])[['callshiftassignment','Person']].drop_duplicates()\n",
    "\n",
    "vac_slots = vac_slots.merge(potential_call,on='callshiftassignment')"
   ]
  },
  {
   "cell_type": "code",
   "execution_count": 4,
   "metadata": {},
   "outputs": [],
   "source": [
    "#write the scheduled vacation weeks into a dict\n",
    "#this shows which weeks/weekends people cannot work\n",
    "vac_weeks = {}\n",
    "for row in vac_slots.index:\n",
    "    \n",
    "    data = vac_slots.loc[row]\n",
    "    if data[1] not in vac_weeks:\n",
    "        vac_weeks[data[1]]= [data[2]]\n",
    "\n",
    "    if data[1] in vac_weeks:\n",
    "        if data[2] not in vac_weeks[data[1]]:\n",
    "            vac_weeks[data[1]].append(data[2])\n",
    "\n",
    "#determine which weeks/weekends people can work\n",
    "#construct a dict of potential call weeks/weekends\n",
    "not_vac_weeks = {}\n",
    "\n",
    "for person in vac_weeks:\n",
    "    for week in potential_call.index:\n",
    "\n",
    "        #create first entry\n",
    "        if person not in not_vac_weeks:\n",
    "            if week not in vac_weeks[person]:\n",
    "                not_vac_weeks[person] = [week]\n",
    "\n",
    "        if person in not_vac_weeks:\n",
    "            if week not in vac_weeks[person]:\n",
    "                if week not in not_vac_weeks[person]:\n",
    "                    not_vac_weeks[person].append(week)\n"
   ]
  },
  {
   "cell_type": "code",
   "execution_count": 5,
   "metadata": {},
   "outputs": [],
   "source": [
    "residents = list(set(vac.Person))\n",
    "shifts = list(potential_call.index)\n",
    "weekends = list(potential_call[potential_call.callshiftassignment.str.contains('weekend')].index)\n",
    "weekdays = [shift for shift in list(potential_call.index) if shift not in weekends]"
   ]
  },
  {
   "cell_type": "code",
   "execution_count": 6,
   "metadata": {},
   "outputs": [],
   "source": [
    "import pulp"
   ]
  },
  {
   "cell_type": "code",
   "execution_count": 7,
   "metadata": {},
   "outputs": [],
   "source": [
    "x = pulp.LpVariable.dicts(\n",
    "    'x',\n",
    "    ((weekday,weekend, resident)\n",
    "        for resident in residents\n",
    "        for weekday in weekdays\n",
    "        for weekend in weekends),\n",
    "    cat=pulp.LpBinary)"
   ]
  },
  {
   "cell_type": "code",
   "execution_count": null,
   "metadata": {},
   "outputs": [],
   "source": [
    "model = pulp.LpProblem('Schedule', pulp.LpMaximize)\n",
    "\n",
    "#constraints for residents\n",
    "for resident in residents:\n",
    "\n",
    "    # this is the \"no time-turners constraint\"\n",
    "     \n",
    "    #minumum number of shifts \n",
    "    model.addConstraint(\n",
    "        sum(x[weekend, resident] for shift in shifts) >= 5,\n",
    "        F'min {5} shifts per resident {resident}')\n",
    "\n",
    "    model.addConstraint(\n",
    "        sum(x[shift, resident] for shift in shifts) <= 7,\n",
    "        F'max {7} shifts per resident {resident}')\n",
    "\n",
    "    #remove vacation weeks\n",
    "    for s in vac_weeks[resident]:\n",
    "        model.addConstraint(\n",
    "                sum(x[s, resident] for shift in shifts) == 0 ,\n",
    "                '{} cannot work during {}'.format(resident,s))\n",
    "\n",
    "    #no back to back call\n",
    "    #no_two_shifts_in_a_row(resident)\n",
    "    #remove vacation weeks\n",
    "    for s in not_vac_weeks[resident]:\n",
    "        for i in not_vac_weeks[resident][1:]:\n",
    "            if i - s == 1:\n",
    "                model.addConstraint(\n",
    "                        sum(x[s, resident] for shift in shifts)\n",
    "                        + sum(x[i, resident] for shift in shifts) <= len(shifts) ,\n",
    "                        '{} cannot work during {}'.format(resident,s))\n",
    "\n",
    "        for w in weekends:\n",
    "            model.addConstraint(\n",
    "                    sum(x[w, resident] for shift in shifts) <= 3 ,\n",
    "                    '{} cannot work more than the {} weekends'.format(resident,w))    \n",
    "\n",
    "            \n",
    "    \n",
    "        #no back to back call\n",
    "    #no_two_shifts_in_a_row(resident)\n",
    "    #remove vacation weeks\n",
    "    #for s in not_vac_weeks[resident]:\n",
    "    #    for i in weekends:\n",
    "    #        if i == s:\n",
    "    #            model.addConstraint(\n",
    "    #                    sum(x[s, resident] for shift in shifts)\n",
    "    #                    + sum(x[i, resident] for shift in shifts) <= len(shifts)/3 ,\n",
    "    #                    '{} cannot work during {}'.format(resident,s))\n",
    "    \n",
    "\n",
    "    \n",
    "\n",
    "\n",
    "\n",
    "for shift in shifts:\n",
    "    \n",
    "    #no duplication of shifts\n",
    "    model.addConstraint(\n",
    "        sum(x[shift, resident] for resident in residents) == 1,\n",
    "        F'{1} resident per {shift}')\n",
    "\n",
    "\n",
    "\n",
    "            #model.addConstraint(\n",
    "            #        sum(x[minus, resident] for resident in residents)+ sum(x[s, resident] for resident in residents) == 0 ,\n",
    "            #        '{} cannot work shift {} before {}'.format(resident,s,minus))\n"
   ]
  }
 ],
 "metadata": {
  "interpreter": {
   "hash": "f1a4a4f144332a771e00e7433ba769f3488621905bd9605b0b008be2dfad0e0c"
  },
  "kernelspec": {
   "display_name": "Python 3.8.3 ('base')",
   "language": "python",
   "name": "python3"
  },
  "language_info": {
   "codemirror_mode": {
    "name": "ipython",
    "version": 3
   },
   "file_extension": ".py",
   "mimetype": "text/x-python",
   "name": "python",
   "nbconvert_exporter": "python",
   "pygments_lexer": "ipython3",
   "version": "3.8.3"
  },
  "orig_nbformat": 4
 },
 "nbformat": 4,
 "nbformat_minor": 2
}
