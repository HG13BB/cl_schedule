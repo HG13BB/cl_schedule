{
 "cells": [
  {
   "cell_type": "code",
   "execution_count": 274,
   "metadata": {},
   "outputs": [],
   "source": [
    "import pandas as pd\n",
    "import os\n",
    "import pathlib"
   ]
  },
  {
   "cell_type": "code",
   "execution_count": 295,
   "metadata": {},
   "outputs": [],
   "source": [
    "datafile = '..\\data\\schedule.xlsx'"
   ]
  },
  {
   "cell_type": "code",
   "execution_count": 338,
   "metadata": {},
   "outputs": [],
   "source": [
    "vac = pd.read_excel(datafile,sheet_name='Vacation')\n",
    "days = pd.read_excel(datafile,sheet_name='Days')\n",
    "weeks = list(set(days.week))\n",
    "vac_sched = days.merge(vac,on='Date')\n",
    "\n",
    "#build list of all potential months call work time units (week or weekend)\n",
    "#and assign this an index\n",
    "potential_call = days.callshiftassignment.drop_duplicates()\\\n",
    "    .reset_index().drop('index',axis=1).reset_index()\n",
    "\n",
    "\n",
    "vac_slots = vac_sched[['week','callshiftassignment','Person']].drop_duplicates()\\\n",
    "    .sort_values(by=['week','Person'])[['callshiftassignment','Person']].drop_duplicates()\n",
    "\n",
    "vac_slots = vac_slots.merge(potential_call,on='callshiftassignment')"
   ]
  },
  {
   "cell_type": "code",
   "execution_count": 339,
   "metadata": {},
   "outputs": [],
   "source": [
    "vac_slots = vac_slots.merge(potential_call,on='callshiftassignment')"
   ]
  },
  {
   "cell_type": "code",
   "execution_count": 340,
   "metadata": {},
   "outputs": [],
   "source": [
    "#write the scheduled vacation weeks into a dict\n",
    "#this shows which weeks/weekends people cannot work\n",
    "vac_weeks = {}\n",
    "for row in vac_slots.index:\n",
    "    \n",
    "    data = vac_slots.loc[row]\n",
    "    if data[1] not in vac_weeks:\n",
    "        vac_weeks[data[1]]= [data[2]]\n",
    "\n",
    "    if data[1] in vac_weeks:\n",
    "        if data[2] not in vac_weeks[data[1]]:\n",
    "            vac_weeks[data[1]].append(data[2])\n",
    "\n",
    "#determine which weeks/weekends people can work\n",
    "#construct a dict of potential call weeks/weekends\n",
    "not_vac_weeks = {}\n",
    "\n",
    "for person in vac_weeks:\n",
    "    for week in potential_call.index:\n",
    "\n",
    "        #create first entry\n",
    "        if person not in not_vac_weeks:\n",
    "            if week not in vac_weeks[person]:\n",
    "                not_vac_weeks[person] = [week]\n",
    "\n",
    "        if person in not_vac_weeks:\n",
    "            if week not in vac_weeks[person]:\n",
    "                if week not in not_vac_weeks[person]:\n",
    "                    not_vac_weeks[person].append(week)\n"
   ]
  },
  {
   "cell_type": "code",
   "execution_count": 341,
   "metadata": {},
   "outputs": [
    {
     "data": {
      "text/plain": [
       "[0, 2, 3, 4, 5, 6, 7, 8, 9, 10, 11, 12, 13, 14, 15, 16, 17, 20, 21, 22, 23]"
      ]
     },
     "execution_count": 341,
     "metadata": {},
     "output_type": "execute_result"
    }
   ],
   "source": [
    "not_vac_weeks['Deenah']"
   ]
  },
  {
   "cell_type": "code",
   "execution_count": 342,
   "metadata": {},
   "outputs": [
    {
     "data": {
      "text/plain": [
       "[19, 20, 21]"
      ]
     },
     "execution_count": 342,
     "metadata": {},
     "output_type": "execute_result"
    }
   ],
   "source": [
    "vac_weeks['Erin']"
   ]
  },
  {
   "cell_type": "code",
   "execution_count": 343,
   "metadata": {},
   "outputs": [],
   "source": [
    "import pulp"
   ]
  },
  {
   "cell_type": "code",
   "execution_count": 344,
   "metadata": {},
   "outputs": [],
   "source": [
    "residents = list(set(vac.Person))\n",
    "shifts = list(potential_call.index)"
   ]
  },
  {
   "cell_type": "code",
   "execution_count": 345,
   "metadata": {},
   "outputs": [],
   "source": [
    "weekends = list(potential_call[potential_call.callshiftassignment.str.contains('weekend')].index)"
   ]
  },
  {
   "cell_type": "code",
   "execution_count": 346,
   "metadata": {},
   "outputs": [],
   "source": [
    "weekdays = [shift for shift in list(potential_call.index) if shift not in weekends]"
   ]
  },
  {
   "cell_type": "code",
   "execution_count": 354,
   "metadata": {},
   "outputs": [],
   "source": [
    "x = pulp.LpVariable.dicts(\n",
    "    'x',\n",
    "    ((shift, resident)\n",
    "        for resident in residents\n",
    "        for shift in shifts),\n",
    "    cat=pulp.LpBinary)"
   ]
  },
  {
   "cell_type": "code",
   "execution_count": 366,
   "metadata": {},
   "outputs": [
    {
     "ename": "PulpError",
     "evalue": "overlapping constraint names: Paul_cannot_work_more_than_the_1_weekends",
     "output_type": "error",
     "traceback": [
      "\u001b[1;31m---------------------------------------------------------------------------\u001b[0m",
      "\u001b[1;31mPulpError\u001b[0m                                 Traceback (most recent call last)",
      "\u001b[1;32m<ipython-input-366-7e1f72b3d779>\u001b[0m in \u001b[0;36m<module>\u001b[1;34m\u001b[0m\n\u001b[0;32m     33\u001b[0m \u001b[1;33m\u001b[0m\u001b[0m\n\u001b[0;32m     34\u001b[0m         \u001b[1;32mfor\u001b[0m \u001b[0mw\u001b[0m \u001b[1;32min\u001b[0m \u001b[0mweekends\u001b[0m\u001b[1;33m:\u001b[0m\u001b[1;33m\u001b[0m\u001b[1;33m\u001b[0m\u001b[0m\n\u001b[1;32m---> 35\u001b[1;33m             model.addConstraint(\n\u001b[0m\u001b[0;32m     36\u001b[0m                     \u001b[0msum\u001b[0m\u001b[1;33m(\u001b[0m\u001b[0mx\u001b[0m\u001b[1;33m[\u001b[0m\u001b[0mw\u001b[0m\u001b[1;33m,\u001b[0m \u001b[0mresident\u001b[0m\u001b[1;33m]\u001b[0m \u001b[1;32mfor\u001b[0m \u001b[0mshift\u001b[0m \u001b[1;32min\u001b[0m \u001b[0mshifts\u001b[0m\u001b[1;33m)\u001b[0m \u001b[1;33m<=\u001b[0m \u001b[1;36m3\u001b[0m \u001b[1;33m,\u001b[0m\u001b[1;33m\u001b[0m\u001b[1;33m\u001b[0m\u001b[0m\n\u001b[0;32m     37\u001b[0m                     '{} cannot work more than the {} weekends'.format(resident,w))    \n",
      "\u001b[1;32mc:\\Users\\henry\\anaconda3\\lib\\site-packages\\pulp\\pulp.py\u001b[0m in \u001b[0;36maddConstraint\u001b[1;34m(self, constraint, name)\u001b[0m\n\u001b[0;32m   1659\u001b[0m         \u001b[1;32mif\u001b[0m \u001b[0mname\u001b[0m \u001b[1;32min\u001b[0m \u001b[0mself\u001b[0m\u001b[1;33m.\u001b[0m\u001b[0mconstraints\u001b[0m\u001b[1;33m:\u001b[0m\u001b[1;33m\u001b[0m\u001b[1;33m\u001b[0m\u001b[0m\n\u001b[0;32m   1660\u001b[0m             \u001b[1;32mif\u001b[0m \u001b[0mself\u001b[0m\u001b[1;33m.\u001b[0m\u001b[0mnoOverlap\u001b[0m\u001b[1;33m:\u001b[0m\u001b[1;33m\u001b[0m\u001b[1;33m\u001b[0m\u001b[0m\n\u001b[1;32m-> 1661\u001b[1;33m                 \u001b[1;32mraise\u001b[0m \u001b[0mconst\u001b[0m\u001b[1;33m.\u001b[0m\u001b[0mPulpError\u001b[0m\u001b[1;33m(\u001b[0m\u001b[1;34m\"overlapping constraint names: \"\u001b[0m \u001b[1;33m+\u001b[0m \u001b[0mname\u001b[0m\u001b[1;33m)\u001b[0m\u001b[1;33m\u001b[0m\u001b[1;33m\u001b[0m\u001b[0m\n\u001b[0m\u001b[0;32m   1662\u001b[0m             \u001b[1;32melse\u001b[0m\u001b[1;33m:\u001b[0m\u001b[1;33m\u001b[0m\u001b[1;33m\u001b[0m\u001b[0m\n\u001b[0;32m   1663\u001b[0m                 \u001b[0mprint\u001b[0m\u001b[1;33m(\u001b[0m\u001b[1;34m\"Warning: overlapping constraint names:\"\u001b[0m\u001b[1;33m,\u001b[0m \u001b[0mname\u001b[0m\u001b[1;33m)\u001b[0m\u001b[1;33m\u001b[0m\u001b[1;33m\u001b[0m\u001b[0m\n",
      "\u001b[1;31mPulpError\u001b[0m: overlapping constraint names: Paul_cannot_work_more_than_the_1_weekends"
     ]
    }
   ],
   "source": [
    "model = pulp.LpProblem('Schedule', pulp.LpMaximize)\n",
    "\n",
    "#constraints for residents\n",
    "for resident in residents:\n",
    "\n",
    "    # this is the \"no time-turners constraint\"\n",
    "     \n",
    "    #minumum number of shifts \n",
    "    model.addConstraint(\n",
    "        sum(x[shift, resident] for shift in shifts) >= 5,\n",
    "        F'min {5} shifts per resident {resident}')\n",
    "\n",
    "    model.addConstraint(\n",
    "        sum(x[shift, resident] for shift in shifts) <= 7,\n",
    "        F'max {7} shifts per resident {resident}')\n",
    "\n",
    "    #remove vacation weeks\n",
    "    for s in vac_weeks[resident]:\n",
    "        model.addConstraint(\n",
    "                sum(x[s, resident] for shift in shifts) == 0 ,\n",
    "                '{} cannot work during {}'.format(resident,s))\n",
    "\n",
    "    #no back to back call\n",
    "    #no_two_shifts_in_a_row(resident)\n",
    "    #remove vacation weeks\n",
    "    for s in not_vac_weeks[resident]:\n",
    "        for i in not_vac_weeks[resident][1:]:\n",
    "            if i - s == 1:\n",
    "                model.addConstraint(\n",
    "                        sum(x[s, resident] for shift in shifts)\n",
    "                        + sum(x[i, resident] for shift in shifts) <= len(shifts) ,\n",
    "                        '{} cannot work during {}'.format(resident,s))\n",
    "\n",
    "        for w in weekends:\n",
    "            model.addConstraint(\n",
    "                    sum(x[w, resident] for shift in shifts) <= 3 ,\n",
    "                    '{} cannot work more than the {} weekends'.format(resident,w))    \n",
    "\n",
    "            \n",
    "    \n",
    "        #no back to back call\n",
    "    #no_two_shifts_in_a_row(resident)\n",
    "    #remove vacation weeks\n",
    "    #for s in not_vac_weeks[resident]:\n",
    "    #    for i in weekends:\n",
    "    #        if i == s:\n",
    "    #            model.addConstraint(\n",
    "    #                    sum(x[s, resident] for shift in shifts)\n",
    "    #                    + sum(x[i, resident] for shift in shifts) <= len(shifts)/3 ,\n",
    "    #                    '{} cannot work during {}'.format(resident,s))\n",
    "    \n",
    "\n",
    "    \n",
    "\n",
    "\n",
    "\n",
    "for shift in shifts:\n",
    "    \n",
    "    #no duplication of shifts\n",
    "    model.addConstraint(\n",
    "        sum(x[shift, resident] for resident in residents) == 1,\n",
    "        F'{1} resident per {shift}')\n",
    "\n",
    "\n",
    "\n",
    "            #model.addConstraint(\n",
    "            #        sum(x[minus, resident] for resident in residents)+ sum(x[s, resident] for resident in residents) == 0 ,\n",
    "            #        '{} cannot work shift {} before {}'.format(resident,s,minus))\n"
   ]
  },
  {
   "cell_type": "code",
   "execution_count": 362,
   "metadata": {},
   "outputs": [
    {
     "ename": "ValueError",
     "evalue": "Infeasible",
     "output_type": "error",
     "traceback": [
      "\u001b[1;31m---------------------------------------------------------------------------\u001b[0m",
      "\u001b[1;31mValueError\u001b[0m                                Traceback (most recent call last)",
      "\u001b[1;32m<ipython-input-362-11dc463176c6>\u001b[0m in \u001b[0;36m<module>\u001b[1;34m\u001b[0m\n\u001b[0;32m      2\u001b[0m \u001b[0mmodel\u001b[0m\u001b[1;33m.\u001b[0m\u001b[0msolve\u001b[0m\u001b[1;33m(\u001b[0m\u001b[1;33m)\u001b[0m\u001b[1;33m\u001b[0m\u001b[1;33m\u001b[0m\u001b[0m\n\u001b[0;32m      3\u001b[0m \u001b[1;32mif\u001b[0m \u001b[0mpulp\u001b[0m\u001b[1;33m.\u001b[0m\u001b[0mLpStatus\u001b[0m\u001b[1;33m[\u001b[0m\u001b[0mmodel\u001b[0m\u001b[1;33m.\u001b[0m\u001b[0mstatus\u001b[0m\u001b[1;33m]\u001b[0m \u001b[1;33m!=\u001b[0m \u001b[1;34m'Optimal'\u001b[0m\u001b[1;33m:\u001b[0m\u001b[1;33m\u001b[0m\u001b[1;33m\u001b[0m\u001b[0m\n\u001b[1;32m----> 4\u001b[1;33m     \u001b[1;32mraise\u001b[0m \u001b[0mValueError\u001b[0m\u001b[1;33m(\u001b[0m\u001b[0mpulp\u001b[0m\u001b[1;33m.\u001b[0m\u001b[0mLpStatus\u001b[0m\u001b[1;33m[\u001b[0m\u001b[0mmodel\u001b[0m\u001b[1;33m.\u001b[0m\u001b[0mstatus\u001b[0m\u001b[1;33m]\u001b[0m\u001b[1;33m)\u001b[0m\u001b[1;33m\u001b[0m\u001b[1;33m\u001b[0m\u001b[0m\n\u001b[0m\u001b[0;32m      5\u001b[0m \u001b[1;33m\u001b[0m\u001b[0m\n\u001b[0;32m      6\u001b[0m data = [{\n",
      "\u001b[1;31mValueError\u001b[0m: Infeasible"
     ]
    }
   ],
   "source": [
    "# pulp.LpSolverDefault.msg = 1\n",
    "model.solve()\n",
    "if pulp.LpStatus[model.status] != 'Optimal':\n",
    "    raise ValueError(pulp.LpStatus[model.status])\n",
    "\n",
    "data = [{\n",
    "    'resident': resident,\n",
    "    'shift':shift,\n",
    "    'result': x[shift,resident].varValue}\n",
    " for resident in residents for shift in shifts]\n",
    "\n",
    "result_raw = pd.DataFrame(data)\n",
    "result_final = result_raw[result_raw.result > 0]\n",
    "\n",
    "result_final_out = result_final.merge(potential_call,left_on='shift',right_on='index')\\\n",
    "    .merge(days,on='callshiftassignment')\n",
    "\n",
    "result_final_out.to_excel('..\\data\\cl_planned_schedule.xlsx',sheet_name='cl_shifts',index=False)"
   ]
  },
  {
   "cell_type": "code",
   "execution_count": 269,
   "metadata": {},
   "outputs": [
    {
     "data": {
      "text/html": [
       "<div>\n",
       "<style scoped>\n",
       "    .dataframe tbody tr th:only-of-type {\n",
       "        vertical-align: middle;\n",
       "    }\n",
       "\n",
       "    .dataframe tbody tr th {\n",
       "        vertical-align: top;\n",
       "    }\n",
       "\n",
       "    .dataframe thead th {\n",
       "        text-align: right;\n",
       "    }\n",
       "</style>\n",
       "<table border=\"1\" class=\"dataframe\">\n",
       "  <thead>\n",
       "    <tr style=\"text-align: right;\">\n",
       "      <th></th>\n",
       "      <th>resident</th>\n",
       "      <th>shift</th>\n",
       "      <th>result</th>\n",
       "    </tr>\n",
       "  </thead>\n",
       "  <tbody>\n",
       "    <tr>\n",
       "      <th>3</th>\n",
       "      <td>Paul</td>\n",
       "      <td>3</td>\n",
       "      <td>1.0</td>\n",
       "    </tr>\n",
       "    <tr>\n",
       "      <th>5</th>\n",
       "      <td>Paul</td>\n",
       "      <td>5</td>\n",
       "      <td>1.0</td>\n",
       "    </tr>\n",
       "    <tr>\n",
       "      <th>7</th>\n",
       "      <td>Paul</td>\n",
       "      <td>7</td>\n",
       "      <td>1.0</td>\n",
       "    </tr>\n",
       "    <tr>\n",
       "      <th>13</th>\n",
       "      <td>Paul</td>\n",
       "      <td>13</td>\n",
       "      <td>1.0</td>\n",
       "    </tr>\n",
       "    <tr>\n",
       "      <th>17</th>\n",
       "      <td>Paul</td>\n",
       "      <td>17</td>\n",
       "      <td>1.0</td>\n",
       "    </tr>\n",
       "    <tr>\n",
       "      <th>19</th>\n",
       "      <td>Paul</td>\n",
       "      <td>19</td>\n",
       "      <td>1.0</td>\n",
       "    </tr>\n",
       "    <tr>\n",
       "      <th>25</th>\n",
       "      <td>Deenah</td>\n",
       "      <td>1</td>\n",
       "      <td>1.0</td>\n",
       "    </tr>\n",
       "    <tr>\n",
       "      <th>30</th>\n",
       "      <td>Deenah</td>\n",
       "      <td>6</td>\n",
       "      <td>1.0</td>\n",
       "    </tr>\n",
       "    <tr>\n",
       "      <th>32</th>\n",
       "      <td>Deenah</td>\n",
       "      <td>8</td>\n",
       "      <td>1.0</td>\n",
       "    </tr>\n",
       "    <tr>\n",
       "      <th>38</th>\n",
       "      <td>Deenah</td>\n",
       "      <td>14</td>\n",
       "      <td>1.0</td>\n",
       "    </tr>\n",
       "    <tr>\n",
       "      <th>40</th>\n",
       "      <td>Deenah</td>\n",
       "      <td>16</td>\n",
       "      <td>1.0</td>\n",
       "    </tr>\n",
       "    <tr>\n",
       "      <th>47</th>\n",
       "      <td>Deenah</td>\n",
       "      <td>23</td>\n",
       "      <td>1.0</td>\n",
       "    </tr>\n",
       "    <tr>\n",
       "      <th>52</th>\n",
       "      <td>Erin</td>\n",
       "      <td>4</td>\n",
       "      <td>1.0</td>\n",
       "    </tr>\n",
       "    <tr>\n",
       "      <th>57</th>\n",
       "      <td>Erin</td>\n",
       "      <td>9</td>\n",
       "      <td>1.0</td>\n",
       "    </tr>\n",
       "    <tr>\n",
       "      <th>59</th>\n",
       "      <td>Erin</td>\n",
       "      <td>11</td>\n",
       "      <td>1.0</td>\n",
       "    </tr>\n",
       "    <tr>\n",
       "      <th>63</th>\n",
       "      <td>Erin</td>\n",
       "      <td>15</td>\n",
       "      <td>1.0</td>\n",
       "    </tr>\n",
       "    <tr>\n",
       "      <th>68</th>\n",
       "      <td>Erin</td>\n",
       "      <td>20</td>\n",
       "      <td>1.0</td>\n",
       "    </tr>\n",
       "    <tr>\n",
       "      <th>70</th>\n",
       "      <td>Erin</td>\n",
       "      <td>22</td>\n",
       "      <td>1.0</td>\n",
       "    </tr>\n",
       "    <tr>\n",
       "      <th>72</th>\n",
       "      <td>Jess</td>\n",
       "      <td>0</td>\n",
       "      <td>1.0</td>\n",
       "    </tr>\n",
       "    <tr>\n",
       "      <th>74</th>\n",
       "      <td>Jess</td>\n",
       "      <td>2</td>\n",
       "      <td>1.0</td>\n",
       "    </tr>\n",
       "    <tr>\n",
       "      <th>82</th>\n",
       "      <td>Jess</td>\n",
       "      <td>10</td>\n",
       "      <td>1.0</td>\n",
       "    </tr>\n",
       "    <tr>\n",
       "      <th>84</th>\n",
       "      <td>Jess</td>\n",
       "      <td>12</td>\n",
       "      <td>1.0</td>\n",
       "    </tr>\n",
       "    <tr>\n",
       "      <th>90</th>\n",
       "      <td>Jess</td>\n",
       "      <td>18</td>\n",
       "      <td>1.0</td>\n",
       "    </tr>\n",
       "    <tr>\n",
       "      <th>93</th>\n",
       "      <td>Jess</td>\n",
       "      <td>21</td>\n",
       "      <td>1.0</td>\n",
       "    </tr>\n",
       "  </tbody>\n",
       "</table>\n",
       "</div>"
      ],
      "text/plain": [
       "   resident  shift  result\n",
       "3      Paul      3     1.0\n",
       "5      Paul      5     1.0\n",
       "7      Paul      7     1.0\n",
       "13     Paul     13     1.0\n",
       "17     Paul     17     1.0\n",
       "19     Paul     19     1.0\n",
       "25   Deenah      1     1.0\n",
       "30   Deenah      6     1.0\n",
       "32   Deenah      8     1.0\n",
       "38   Deenah     14     1.0\n",
       "40   Deenah     16     1.0\n",
       "47   Deenah     23     1.0\n",
       "52     Erin      4     1.0\n",
       "57     Erin      9     1.0\n",
       "59     Erin     11     1.0\n",
       "63     Erin     15     1.0\n",
       "68     Erin     20     1.0\n",
       "70     Erin     22     1.0\n",
       "72     Jess      0     1.0\n",
       "74     Jess      2     1.0\n",
       "82     Jess     10     1.0\n",
       "84     Jess     12     1.0\n",
       "90     Jess     18     1.0\n",
       "93     Jess     21     1.0"
      ]
     },
     "execution_count": 269,
     "metadata": {},
     "output_type": "execute_result"
    }
   ],
   "source": [
    "result_final"
   ]
  }
 ],
 "metadata": {
  "interpreter": {
   "hash": "f1a4a4f144332a771e00e7433ba769f3488621905bd9605b0b008be2dfad0e0c"
  },
  "kernelspec": {
   "display_name": "Python 3.8.3 ('base')",
   "language": "python",
   "name": "python3"
  },
  "language_info": {
   "codemirror_mode": {
    "name": "ipython",
    "version": 3
   },
   "file_extension": ".py",
   "mimetype": "text/x-python",
   "name": "python",
   "nbconvert_exporter": "python",
   "pygments_lexer": "ipython3",
   "version": "3.8.3"
  },
  "orig_nbformat": 4
 },
 "nbformat": 4,
 "nbformat_minor": 2
}
