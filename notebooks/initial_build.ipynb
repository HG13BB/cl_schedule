{
 "cells": [
  {
   "cell_type": "code",
   "execution_count": 2,
   "metadata": {},
   "outputs": [],
   "source": [
    "import pandas as pd\n",
    "import os\n",
    "import pathlib"
   ]
  },
  {
   "cell_type": "code",
   "execution_count": 3,
   "metadata": {},
   "outputs": [],
   "source": [
    "datafile = '..\\data\\schedule.xlsx'"
   ]
  },
  {
   "cell_type": "code",
   "execution_count": 5,
   "metadata": {},
   "outputs": [],
   "source": [
    "vac = pd.read_excel(datafile,sheet_name='Vacation')"
   ]
  },
  {
   "cell_type": "code",
   "execution_count": 6,
   "metadata": {},
   "outputs": [],
   "source": [
    "days = pd.read_excel(datafile,sheet_name='Days')"
   ]
  },
  {
   "cell_type": "code",
   "execution_count": 204,
   "metadata": {},
   "outputs": [],
   "source": [
    "weeks = list(set(days.week))"
   ]
  },
  {
   "cell_type": "code",
   "execution_count": 7,
   "metadata": {},
   "outputs": [],
   "source": [
    "vac_sched = days.merge(vac,on='Date')"
   ]
  },
  {
   "cell_type": "code",
   "execution_count": 8,
   "metadata": {},
   "outputs": [],
   "source": [
    "#build list of all potential months call work time units (week or weekend)\n",
    "#and assign this an index\n",
    "potential_call = days.callshiftassignment.drop_duplicates()\\\n",
    "    .reset_index().drop('index',axis=1).reset_index()"
   ]
  },
  {
   "cell_type": "code",
   "execution_count": 9,
   "metadata": {},
   "outputs": [],
   "source": [
    "vac_slots = vac_sched[['week','callshiftassignment','Person']].drop_duplicates()\\\n",
    "    .sort_values(by=['week','Person'])[['callshiftassignment','Person']].drop_duplicates()"
   ]
  },
  {
   "cell_type": "code",
   "execution_count": 10,
   "metadata": {},
   "outputs": [],
   "source": [
    "vac_slots = vac_slots.merge(potential_call,on='callshiftassignment')"
   ]
  },
  {
   "cell_type": "code",
   "execution_count": 11,
   "metadata": {},
   "outputs": [
    {
     "data": {
      "text/html": [
       "<div>\n",
       "<style scoped>\n",
       "    .dataframe tbody tr th:only-of-type {\n",
       "        vertical-align: middle;\n",
       "    }\n",
       "\n",
       "    .dataframe tbody tr th {\n",
       "        vertical-align: top;\n",
       "    }\n",
       "\n",
       "    .dataframe thead th {\n",
       "        text-align: right;\n",
       "    }\n",
       "</style>\n",
       "<table border=\"1\" class=\"dataframe\">\n",
       "  <thead>\n",
       "    <tr style=\"text-align: right;\">\n",
       "      <th></th>\n",
       "      <th>callshiftassignment</th>\n",
       "      <th>Person</th>\n",
       "      <th>index</th>\n",
       "    </tr>\n",
       "  </thead>\n",
       "  <tbody>\n",
       "    <tr>\n",
       "      <th>0</th>\n",
       "      <td>weekend1</td>\n",
       "      <td>Jess</td>\n",
       "      <td>1</td>\n",
       "    </tr>\n",
       "    <tr>\n",
       "      <th>1</th>\n",
       "      <td>weekend8</td>\n",
       "      <td>Jess</td>\n",
       "      <td>13</td>\n",
       "    </tr>\n",
       "    <tr>\n",
       "      <th>2</th>\n",
       "      <td>weekday8</td>\n",
       "      <td>Jess</td>\n",
       "      <td>14</td>\n",
       "    </tr>\n",
       "    <tr>\n",
       "      <th>3</th>\n",
       "      <td>weekend9</td>\n",
       "      <td>Jess</td>\n",
       "      <td>15</td>\n",
       "    </tr>\n",
       "    <tr>\n",
       "      <th>4</th>\n",
       "      <td>weekend10</td>\n",
       "      <td>Deenah</td>\n",
       "      <td>17</td>\n",
       "    </tr>\n",
       "    <tr>\n",
       "      <th>5</th>\n",
       "      <td>weekday10</td>\n",
       "      <td>Deenah</td>\n",
       "      <td>18</td>\n",
       "    </tr>\n",
       "    <tr>\n",
       "      <th>6</th>\n",
       "      <td>weekend11</td>\n",
       "      <td>Deenah</td>\n",
       "      <td>19</td>\n",
       "    </tr>\n",
       "    <tr>\n",
       "      <th>7</th>\n",
       "      <td>weekend11</td>\n",
       "      <td>Erin</td>\n",
       "      <td>19</td>\n",
       "    </tr>\n",
       "    <tr>\n",
       "      <th>8</th>\n",
       "      <td>weekday11</td>\n",
       "      <td>Deenah</td>\n",
       "      <td>20</td>\n",
       "    </tr>\n",
       "    <tr>\n",
       "      <th>9</th>\n",
       "      <td>weekend12</td>\n",
       "      <td>Paul</td>\n",
       "      <td>21</td>\n",
       "    </tr>\n",
       "    <tr>\n",
       "      <th>10</th>\n",
       "      <td>weekday12</td>\n",
       "      <td>Paul</td>\n",
       "      <td>22</td>\n",
       "    </tr>\n",
       "    <tr>\n",
       "      <th>11</th>\n",
       "      <td>weekend13</td>\n",
       "      <td>Paul</td>\n",
       "      <td>23</td>\n",
       "    </tr>\n",
       "  </tbody>\n",
       "</table>\n",
       "</div>"
      ],
      "text/plain": [
       "   callshiftassignment  Person  index\n",
       "0             weekend1    Jess      1\n",
       "1             weekend8    Jess     13\n",
       "2             weekday8    Jess     14\n",
       "3             weekend9    Jess     15\n",
       "4            weekend10  Deenah     17\n",
       "5            weekday10  Deenah     18\n",
       "6            weekend11  Deenah     19\n",
       "7            weekend11    Erin     19\n",
       "8            weekday11  Deenah     20\n",
       "9            weekend12    Paul     21\n",
       "10           weekday12    Paul     22\n",
       "11           weekend13    Paul     23"
      ]
     },
     "execution_count": 11,
     "metadata": {},
     "output_type": "execute_result"
    }
   ],
   "source": [
    "vac_slots "
   ]
  },
  {
   "cell_type": "code",
   "execution_count": 12,
   "metadata": {},
   "outputs": [
    {
     "data": {
      "text/html": [
       "<div>\n",
       "<style scoped>\n",
       "    .dataframe tbody tr th:only-of-type {\n",
       "        vertical-align: middle;\n",
       "    }\n",
       "\n",
       "    .dataframe tbody tr th {\n",
       "        vertical-align: top;\n",
       "    }\n",
       "\n",
       "    .dataframe thead th {\n",
       "        text-align: right;\n",
       "    }\n",
       "</style>\n",
       "<table border=\"1\" class=\"dataframe\">\n",
       "  <thead>\n",
       "    <tr style=\"text-align: right;\">\n",
       "      <th></th>\n",
       "      <th>index</th>\n",
       "      <th>callshiftassignment</th>\n",
       "    </tr>\n",
       "  </thead>\n",
       "  <tbody>\n",
       "    <tr>\n",
       "      <th>0</th>\n",
       "      <td>0</td>\n",
       "      <td>weekday0</td>\n",
       "    </tr>\n",
       "    <tr>\n",
       "      <th>1</th>\n",
       "      <td>1</td>\n",
       "      <td>weekend1</td>\n",
       "    </tr>\n",
       "    <tr>\n",
       "      <th>2</th>\n",
       "      <td>2</td>\n",
       "      <td>weekday1</td>\n",
       "    </tr>\n",
       "    <tr>\n",
       "      <th>3</th>\n",
       "      <td>3</td>\n",
       "      <td>weekend2</td>\n",
       "    </tr>\n",
       "    <tr>\n",
       "      <th>4</th>\n",
       "      <td>4</td>\n",
       "      <td>weekday2</td>\n",
       "    </tr>\n",
       "    <tr>\n",
       "      <th>5</th>\n",
       "      <td>5</td>\n",
       "      <td>weekend3</td>\n",
       "    </tr>\n",
       "    <tr>\n",
       "      <th>6</th>\n",
       "      <td>6</td>\n",
       "      <td>weekday3</td>\n",
       "    </tr>\n",
       "    <tr>\n",
       "      <th>7</th>\n",
       "      <td>7</td>\n",
       "      <td>weekend4</td>\n",
       "    </tr>\n",
       "    <tr>\n",
       "      <th>8</th>\n",
       "      <td>8</td>\n",
       "      <td>weekday4</td>\n",
       "    </tr>\n",
       "    <tr>\n",
       "      <th>9</th>\n",
       "      <td>9</td>\n",
       "      <td>weekend5</td>\n",
       "    </tr>\n",
       "    <tr>\n",
       "      <th>10</th>\n",
       "      <td>10</td>\n",
       "      <td>weekday5</td>\n",
       "    </tr>\n",
       "    <tr>\n",
       "      <th>11</th>\n",
       "      <td>11</td>\n",
       "      <td>weekend7</td>\n",
       "    </tr>\n",
       "    <tr>\n",
       "      <th>12</th>\n",
       "      <td>12</td>\n",
       "      <td>weekday7</td>\n",
       "    </tr>\n",
       "    <tr>\n",
       "      <th>13</th>\n",
       "      <td>13</td>\n",
       "      <td>weekend8</td>\n",
       "    </tr>\n",
       "    <tr>\n",
       "      <th>14</th>\n",
       "      <td>14</td>\n",
       "      <td>weekday8</td>\n",
       "    </tr>\n",
       "    <tr>\n",
       "      <th>15</th>\n",
       "      <td>15</td>\n",
       "      <td>weekend9</td>\n",
       "    </tr>\n",
       "    <tr>\n",
       "      <th>16</th>\n",
       "      <td>16</td>\n",
       "      <td>weekday9</td>\n",
       "    </tr>\n",
       "    <tr>\n",
       "      <th>17</th>\n",
       "      <td>17</td>\n",
       "      <td>weekend10</td>\n",
       "    </tr>\n",
       "    <tr>\n",
       "      <th>18</th>\n",
       "      <td>18</td>\n",
       "      <td>weekday10</td>\n",
       "    </tr>\n",
       "    <tr>\n",
       "      <th>19</th>\n",
       "      <td>19</td>\n",
       "      <td>weekend11</td>\n",
       "    </tr>\n",
       "    <tr>\n",
       "      <th>20</th>\n",
       "      <td>20</td>\n",
       "      <td>weekday11</td>\n",
       "    </tr>\n",
       "    <tr>\n",
       "      <th>21</th>\n",
       "      <td>21</td>\n",
       "      <td>weekend12</td>\n",
       "    </tr>\n",
       "    <tr>\n",
       "      <th>22</th>\n",
       "      <td>22</td>\n",
       "      <td>weekday12</td>\n",
       "    </tr>\n",
       "    <tr>\n",
       "      <th>23</th>\n",
       "      <td>23</td>\n",
       "      <td>weekend13</td>\n",
       "    </tr>\n",
       "  </tbody>\n",
       "</table>\n",
       "</div>"
      ],
      "text/plain": [
       "    index callshiftassignment\n",
       "0       0            weekday0\n",
       "1       1            weekend1\n",
       "2       2            weekday1\n",
       "3       3            weekend2\n",
       "4       4            weekday2\n",
       "5       5            weekend3\n",
       "6       6            weekday3\n",
       "7       7            weekend4\n",
       "8       8            weekday4\n",
       "9       9            weekend5\n",
       "10     10            weekday5\n",
       "11     11            weekend7\n",
       "12     12            weekday7\n",
       "13     13            weekend8\n",
       "14     14            weekday8\n",
       "15     15            weekend9\n",
       "16     16            weekday9\n",
       "17     17           weekend10\n",
       "18     18           weekday10\n",
       "19     19           weekend11\n",
       "20     20           weekday11\n",
       "21     21           weekend12\n",
       "22     22           weekday12\n",
       "23     23           weekend13"
      ]
     },
     "execution_count": 12,
     "metadata": {},
     "output_type": "execute_result"
    }
   ],
   "source": [
    "potential_call"
   ]
  },
  {
   "cell_type": "code",
   "execution_count": 31,
   "metadata": {},
   "outputs": [],
   "source": [
    "#write the scheduled vacation weeks into a dict\n",
    "#this shows which weeks/weekends people cannot work\n",
    "vac_weeks = {}\n",
    "for row in vac_slots.index:\n",
    "    \n",
    "    data = vac_slots.loc[row]\n",
    "    if data[1] not in vac_weeks:\n",
    "        vac_weeks[data[1]]= [data[2]]\n",
    "\n",
    "    if data[1] in vac_weeks:\n",
    "        if data[2] not in vac_weeks[data[1]]:\n",
    "            vac_weeks[data[1]].append(data[2])"
   ]
  },
  {
   "cell_type": "code",
   "execution_count": 32,
   "metadata": {},
   "outputs": [],
   "source": [
    "#determine which weeks/weekends people can work\n",
    "#construct a dict of potential call weeks/weekends\n",
    "not_vac_weeks = {}\n",
    "\n",
    "for person in vac_weeks:\n",
    "    for week in potential_call.index:\n",
    "\n",
    "        #create first entry\n",
    "        if person not in not_vac_weeks:\n",
    "            if week not in vac_weeks[person]:\n",
    "                not_vac_weeks[person] = [week]\n",
    "\n",
    "        if person in not_vac_weeks:\n",
    "            if week not in vac_weeks[person]:\n",
    "                if week not in not_vac_weeks[person]:\n",
    "                    not_vac_weeks[person].append(week)\n",
    "\n"
   ]
  },
  {
   "cell_type": "code",
   "execution_count": 42,
   "metadata": {},
   "outputs": [
    {
     "data": {
      "text/plain": [
       "[0, 1, 2, 3, 4, 5, 6, 7, 8, 9, 10, 11, 12, 13, 14, 15, 16, 21, 22, 23]"
      ]
     },
     "execution_count": 42,
     "metadata": {},
     "output_type": "execute_result"
    }
   ],
   "source": [
    "not_vac_weeks['Deenah']"
   ]
  },
  {
   "cell_type": "code",
   "execution_count": 18,
   "metadata": {},
   "outputs": [],
   "source": [
    "import pulp"
   ]
  },
  {
   "cell_type": "code",
   "execution_count": 33,
   "metadata": {},
   "outputs": [],
   "source": [
    "residents = list(set(vac.Person))"
   ]
  },
  {
   "cell_type": "code",
   "execution_count": 34,
   "metadata": {},
   "outputs": [],
   "source": [
    "shifts = list(potential_call.index)"
   ]
  },
  {
   "cell_type": "code",
   "execution_count": 48,
   "metadata": {},
   "outputs": [],
   "source": [
    "x = pulp.LpVariable.dicts(\n",
    "    'x',\n",
    "    ((shift, resident)\n",
    "        for resident in residents\n",
    "        for shift in shifts),\n",
    "    cat=pulp.LpBinary)"
   ]
  },
  {
   "cell_type": "code",
   "execution_count": 192,
   "metadata": {},
   "outputs": [],
   "source": [
    "synth_var_ix = 0\n",
    "def synth_var():\n",
    "    global synth_var_ix\n",
    "    synth_var_ix += 1\n",
    "    return synth_var_ix\n",
    "\n",
    "def and_together(x1, x2):\n",
    "    \"\"\"\n",
    "    produce a variable that represents x1 && x2\n",
    "\n",
    "    That variable can then be used in constraints and the objective func.\n",
    "    \"\"\"\n",
    "    y = pulp.LpVariable('({} AND {})_{}'.format(x1.name, x2.name, synth_var()), cat=pulp.LpBinary)\n",
    "    model.addConstraint(y >= x1 + x2 - 1, 'constraint{}'.format(synth_var()))\n",
    "    model.addConstraint(y <= x1, 'constraint{}'.format(synth_var()))\n",
    "    model.addConstraint(y <= x2, 'constraint{}'.format(synth_var()))\n",
    "    return y\n",
    "\n",
    "def or_together(x1, x2):\n",
    "    y = pulp.LpVariable('({} OR {})_{}'.format(x1.name, x2.name, synth_var()), cat=pulp.LpBinary)\n",
    "    model.addConstraint(y <= x1 + x2, 'constraint{}'.format(synth_var()))\n",
    "    model.addConstraint(y >= x1, 'constraint{}'.format(synth_var()))\n",
    "    model.addConstraint(y >= x2, 'constraint{}'.format(synth_var()))\n",
    "    return y\n"
   ]
  },
  {
   "cell_type": "code",
   "execution_count": 137,
   "metadata": {},
   "outputs": [],
   "source": [
    "def negate(x):\n",
    "    y = pulp.LpVariable('(NOT {})_{}'.format(x.name, synth_var()), cat=pulp.LpBinary)\n",
    "    model.addConstraint(y == 1 - x, 'constraint_{}'.format(synth_var()))\n",
    "    return y"
   ]
  },
  {
   "cell_type": "code",
   "execution_count": 138,
   "metadata": {},
   "outputs": [],
   "source": [
    "def or_all(xs):\n",
    "    if len(xs) == 2:\n",
    "        return or_together(*xs)\n",
    "    if len(xs) == 1:\n",
    "        return xs[0]\n",
    "    if len(xs) == 0:\n",
    "        raise ValueError('Cannot OR together zero variables')\n",
    "    x1, x2, *x_rest = xs\n",
    "    y = or_together(x1, x2)\n",
    "    return or_all([*x_rest, y])\n"
   ]
  },
  {
   "cell_type": "code",
   "execution_count": 189,
   "metadata": {},
   "outputs": [],
   "source": [
    "def avg(xs):\n",
    "    return sum(xs) / len(xs)"
   ]
  },
  {
   "cell_type": "code",
   "execution_count": 207,
   "metadata": {},
   "outputs": [],
   "source": [
    "def no_two_shifts_in_a_row(resident):\n",
    "    sequential_shifts = []\n",
    "    for m1, m2 in zip(shifts, shifts[1:]):\n",
    "        sequential_shifts.append(\n",
    "            negate([x[shift, resident] for shift in shifts]),\n",
    "                or_all([x[shift, resident] for shift in shifts]),\n",
    "        )\n",
    "    # avg rather than sum below because each of \"NOT (Jan inpatient & Feb inpatient)\" is a request\n",
    "    return avg(sequential_shifts)"
   ]
  },
  {
   "cell_type": "code",
   "execution_count": 243,
   "metadata": {},
   "outputs": [],
   "source": [
    "model = pulp.LpProblem('Schedule', pulp.LpMaximize)\n",
    "\n",
    "#constraints for residents\n",
    "for resident in residents:\n",
    "\n",
    "    # this is the \"no time-turners constraint\"\n",
    "     \n",
    "    #minumum number of shifts \n",
    "    model.addConstraint(\n",
    "        sum(x[shift, resident] for shift in shifts) >= 5,\n",
    "        F'{6} shifts per resident {resident}')\n",
    "\n",
    "    #remove vacation weeks\n",
    "    for s in vac_weeks[resident]:\n",
    "        model.addConstraint(\n",
    "                sum(x[s, resident] for shift in shifts) == 0 ,\n",
    "                '{} cannot work during {}'.format(resident,s))\n",
    "\n",
    "    #no back to back call\n",
    "    #no_two_shifts_in_a_row(resident)\n",
    "    #remove vacation weeks\n",
    "    for s in not_vac_weeks[resident]:\n",
    "        for i in not_vac_weeks[resident][1:]:\n",
    "            if i - s == 1:\n",
    "                model.addConstraint(\n",
    "                        sum(x[s, resident] for shift in shifts)\n",
    "                        + sum(x[i, resident] for shift in shifts) <= len(shifts) ,\n",
    "                        '{} cannot work during {}'.format(resident,s))\n",
    "    \n",
    "    \n",
    "\n",
    "    \n",
    "\n",
    "\n",
    "\n",
    "for shift in shifts:\n",
    "    \n",
    "    #no duplication of shifts\n",
    "    model.addConstraint(\n",
    "        sum(x[shift, resident] for resident in residents) == 1,\n",
    "        F'{1} resident per {shift}')\n",
    "\n",
    "\n",
    "\n",
    "            #model.addConstraint(\n",
    "            #        sum(x[minus, resident] for resident in residents)+ sum(x[s, resident] for resident in residents) == 0 ,\n",
    "            #        '{} cannot work shift {} before {}'.format(resident,s,minus))\n"
   ]
  },
  {
   "cell_type": "code",
   "execution_count": 244,
   "metadata": {},
   "outputs": [
    {
     "ename": "ValueError",
     "evalue": "Infeasible",
     "output_type": "error",
     "traceback": [
      "\u001b[1;31m---------------------------------------------------------------------------\u001b[0m",
      "\u001b[1;31mValueError\u001b[0m                                Traceback (most recent call last)",
      "\u001b[1;32m<ipython-input-244-602b534f6a6d>\u001b[0m in \u001b[0;36m<module>\u001b[1;34m\u001b[0m\n\u001b[0;32m      2\u001b[0m \u001b[0mmodel\u001b[0m\u001b[1;33m.\u001b[0m\u001b[0msolve\u001b[0m\u001b[1;33m(\u001b[0m\u001b[1;33m)\u001b[0m\u001b[1;33m\u001b[0m\u001b[1;33m\u001b[0m\u001b[0m\n\u001b[0;32m      3\u001b[0m \u001b[1;32mif\u001b[0m \u001b[0mpulp\u001b[0m\u001b[1;33m.\u001b[0m\u001b[0mLpStatus\u001b[0m\u001b[1;33m[\u001b[0m\u001b[0mmodel\u001b[0m\u001b[1;33m.\u001b[0m\u001b[0mstatus\u001b[0m\u001b[1;33m]\u001b[0m \u001b[1;33m!=\u001b[0m \u001b[1;34m'Optimal'\u001b[0m\u001b[1;33m:\u001b[0m\u001b[1;33m\u001b[0m\u001b[1;33m\u001b[0m\u001b[0m\n\u001b[1;32m----> 4\u001b[1;33m     \u001b[1;32mraise\u001b[0m \u001b[0mValueError\u001b[0m\u001b[1;33m(\u001b[0m\u001b[0mpulp\u001b[0m\u001b[1;33m.\u001b[0m\u001b[0mLpStatus\u001b[0m\u001b[1;33m[\u001b[0m\u001b[0mmodel\u001b[0m\u001b[1;33m.\u001b[0m\u001b[0mstatus\u001b[0m\u001b[1;33m]\u001b[0m\u001b[1;33m)\u001b[0m\u001b[1;33m\u001b[0m\u001b[1;33m\u001b[0m\u001b[0m\n\u001b[0m\u001b[0;32m      5\u001b[0m \u001b[1;33m\u001b[0m\u001b[0m\n\u001b[0;32m      6\u001b[0m data = [{\n",
      "\u001b[1;31mValueError\u001b[0m: Infeasible"
     ]
    }
   ],
   "source": [
    "# pulp.LpSolverDefault.msg = 1\n",
    "model.solve()\n",
    "if pulp.LpStatus[model.status] != 'Optimal':\n",
    "    raise ValueError(pulp.LpStatus[model.status])\n",
    "\n",
    "data = [{\n",
    "    'resident': resident,\n",
    "    'shift':shift,\n",
    "    'result': x[shift,resident].varValue}\n",
    " for resident in residents for shift in shifts]\n",
    "\n",
    "result_raw = pd.DataFrame(data)\n",
    "result_final = result_raw[result_raw.result > 0]\n",
    "result_final"
   ]
  },
  {
   "cell_type": "code",
   "execution_count": 240,
   "metadata": {},
   "outputs": [
    {
     "data": {
      "text/html": [
       "<div>\n",
       "<style scoped>\n",
       "    .dataframe tbody tr th:only-of-type {\n",
       "        vertical-align: middle;\n",
       "    }\n",
       "\n",
       "    .dataframe tbody tr th {\n",
       "        vertical-align: top;\n",
       "    }\n",
       "\n",
       "    .dataframe thead th {\n",
       "        text-align: right;\n",
       "    }\n",
       "</style>\n",
       "<table border=\"1\" class=\"dataframe\">\n",
       "  <thead>\n",
       "    <tr style=\"text-align: right;\">\n",
       "      <th></th>\n",
       "      <th>resident</th>\n",
       "      <th>shift</th>\n",
       "      <th>result</th>\n",
       "    </tr>\n",
       "  </thead>\n",
       "  <tbody>\n",
       "    <tr>\n",
       "      <th>25</th>\n",
       "      <td>Deenah</td>\n",
       "      <td>1</td>\n",
       "      <td>1.0</td>\n",
       "    </tr>\n",
       "    <tr>\n",
       "      <th>31</th>\n",
       "      <td>Deenah</td>\n",
       "      <td>7</td>\n",
       "      <td>1.0</td>\n",
       "    </tr>\n",
       "    <tr>\n",
       "      <th>33</th>\n",
       "      <td>Deenah</td>\n",
       "      <td>9</td>\n",
       "      <td>1.0</td>\n",
       "    </tr>\n",
       "    <tr>\n",
       "      <th>36</th>\n",
       "      <td>Deenah</td>\n",
       "      <td>12</td>\n",
       "      <td>1.0</td>\n",
       "    </tr>\n",
       "    <tr>\n",
       "      <th>38</th>\n",
       "      <td>Deenah</td>\n",
       "      <td>14</td>\n",
       "      <td>1.0</td>\n",
       "    </tr>\n",
       "    <tr>\n",
       "      <th>40</th>\n",
       "      <td>Deenah</td>\n",
       "      <td>16</td>\n",
       "      <td>1.0</td>\n",
       "    </tr>\n",
       "    <tr>\n",
       "      <th>45</th>\n",
       "      <td>Deenah</td>\n",
       "      <td>21</td>\n",
       "      <td>1.0</td>\n",
       "    </tr>\n",
       "    <tr>\n",
       "      <th>47</th>\n",
       "      <td>Deenah</td>\n",
       "      <td>23</td>\n",
       "      <td>1.0</td>\n",
       "    </tr>\n",
       "  </tbody>\n",
       "</table>\n",
       "</div>"
      ],
      "text/plain": [
       "   resident  shift  result\n",
       "25   Deenah      1     1.0\n",
       "31   Deenah      7     1.0\n",
       "33   Deenah      9     1.0\n",
       "36   Deenah     12     1.0\n",
       "38   Deenah     14     1.0\n",
       "40   Deenah     16     1.0\n",
       "45   Deenah     21     1.0\n",
       "47   Deenah     23     1.0"
      ]
     },
     "execution_count": 240,
     "metadata": {},
     "output_type": "execute_result"
    }
   ],
   "source": [
    "result_final[result_final.resident == 'Deenah']"
   ]
  },
  {
   "cell_type": "code",
   "execution_count": 241,
   "metadata": {},
   "outputs": [],
   "source": [
    "result_final_out = result_final.merge(potential_call,left_on='shift',right_on='index')\\\n",
    "    .merge(days,on='callshiftassignment')"
   ]
  },
  {
   "cell_type": "code",
   "execution_count": 242,
   "metadata": {},
   "outputs": [],
   "source": [
    "result_final_out.to_excel('..\\data\\cl_planned_schedule.xlsx',sheet_name='cl_shifts',index=False)"
   ]
  }
 ],
 "metadata": {
  "interpreter": {
   "hash": "f1a4a4f144332a771e00e7433ba769f3488621905bd9605b0b008be2dfad0e0c"
  },
  "kernelspec": {
   "display_name": "Python 3.8.3 ('base')",
   "language": "python",
   "name": "python3"
  },
  "language_info": {
   "codemirror_mode": {
    "name": "ipython",
    "version": 3
   },
   "file_extension": ".py",
   "mimetype": "text/x-python",
   "name": "python",
   "nbconvert_exporter": "python",
   "pygments_lexer": "ipython3",
   "version": "3.8.3"
  },
  "orig_nbformat": 4
 },
 "nbformat": 4,
 "nbformat_minor": 2
}
