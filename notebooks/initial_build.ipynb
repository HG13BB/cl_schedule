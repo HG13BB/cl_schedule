{
 "cells": [
  {
   "cell_type": "code",
   "execution_count": 12,
   "metadata": {},
   "outputs": [],
   "source": [
    "import pandas as pd"
   ]
  },
  {
   "cell_type": "code",
   "execution_count": 25,
   "metadata": {},
   "outputs": [],
   "source": [
    "datafile = r'C:\\Users\\henry\\OneDrive\\Desktop\\schedule.xlsx'"
   ]
  },
  {
   "cell_type": "code",
   "execution_count": 26,
   "metadata": {},
   "outputs": [],
   "source": [
    "vac = pd.read_excel(datafile,sheet_name='Vacation')"
   ]
  },
  {
   "cell_type": "code",
   "execution_count": 27,
   "metadata": {},
   "outputs": [],
   "source": [
    "days = pd.read_excel(datafile,sheet_name='Days')"
   ]
  },
  {
   "cell_type": "code",
   "execution_count": 41,
   "metadata": {},
   "outputs": [],
   "source": [
    "vac_sched = days.merge(vac,on='Date')"
   ]
  },
  {
   "cell_type": "code",
   "execution_count": 67,
   "metadata": {},
   "outputs": [],
   "source": [
    "vac_slots = vac_sched[['week','callshiftassignment','Person']].drop_duplicates()\\\n",
    "    .sort_values(by=['week','Person'])[['callshiftassignment','Person']].drop_duplicates()"
   ]
  },
  {
   "cell_type": "code",
   "execution_count": 68,
   "metadata": {},
   "outputs": [
    {
     "data": {
      "text/html": [
       "<div>\n",
       "<style scoped>\n",
       "    .dataframe tbody tr th:only-of-type {\n",
       "        vertical-align: middle;\n",
       "    }\n",
       "\n",
       "    .dataframe tbody tr th {\n",
       "        vertical-align: top;\n",
       "    }\n",
       "\n",
       "    .dataframe thead th {\n",
       "        text-align: right;\n",
       "    }\n",
       "</style>\n",
       "<table border=\"1\" class=\"dataframe\">\n",
       "  <thead>\n",
       "    <tr style=\"text-align: right;\">\n",
       "      <th></th>\n",
       "      <th>callshiftassignment</th>\n",
       "      <th>Person</th>\n",
       "    </tr>\n",
       "  </thead>\n",
       "  <tbody>\n",
       "    <tr>\n",
       "      <th>0</th>\n",
       "      <td>weekend8</td>\n",
       "      <td>Jess</td>\n",
       "    </tr>\n",
       "    <tr>\n",
       "      <th>2</th>\n",
       "      <td>weekday8</td>\n",
       "      <td>Jess</td>\n",
       "    </tr>\n",
       "    <tr>\n",
       "      <th>7</th>\n",
       "      <td>weekend9</td>\n",
       "      <td>Jess</td>\n",
       "    </tr>\n",
       "    <tr>\n",
       "      <th>9</th>\n",
       "      <td>weekend10</td>\n",
       "      <td>Deenah</td>\n",
       "    </tr>\n",
       "    <tr>\n",
       "      <th>11</th>\n",
       "      <td>weekday10</td>\n",
       "      <td>Deenah</td>\n",
       "    </tr>\n",
       "    <tr>\n",
       "      <th>16</th>\n",
       "      <td>weekend11</td>\n",
       "      <td>Deenah</td>\n",
       "    </tr>\n",
       "    <tr>\n",
       "      <th>17</th>\n",
       "      <td>weekend11</td>\n",
       "      <td>Paul</td>\n",
       "    </tr>\n",
       "    <tr>\n",
       "      <th>20</th>\n",
       "      <td>weekday11</td>\n",
       "      <td>Deenah</td>\n",
       "    </tr>\n",
       "    <tr>\n",
       "      <th>26</th>\n",
       "      <td>weekend12</td>\n",
       "      <td>Erin</td>\n",
       "    </tr>\n",
       "    <tr>\n",
       "      <th>21</th>\n",
       "      <td>weekday11</td>\n",
       "      <td>Paul</td>\n",
       "    </tr>\n",
       "    <tr>\n",
       "      <th>27</th>\n",
       "      <td>weekend12</td>\n",
       "      <td>Paul</td>\n",
       "    </tr>\n",
       "    <tr>\n",
       "      <th>30</th>\n",
       "      <td>weekday12</td>\n",
       "      <td>Erin</td>\n",
       "    </tr>\n",
       "    <tr>\n",
       "      <th>35</th>\n",
       "      <td>weekend13</td>\n",
       "      <td>Erin</td>\n",
       "    </tr>\n",
       "  </tbody>\n",
       "</table>\n",
       "</div>"
      ],
      "text/plain": [
       "   callshiftassignment  Person\n",
       "0             weekend8    Jess\n",
       "2             weekday8    Jess\n",
       "7             weekend9    Jess\n",
       "9            weekend10  Deenah\n",
       "11           weekday10  Deenah\n",
       "16           weekend11  Deenah\n",
       "17           weekend11    Paul\n",
       "20           weekday11  Deenah\n",
       "26           weekend12    Erin\n",
       "21           weekday11    Paul\n",
       "27           weekend12    Paul\n",
       "30           weekday12    Erin\n",
       "35           weekend13    Erin"
      ]
     },
     "execution_count": 68,
     "metadata": {},
     "output_type": "execute_result"
    }
   ],
   "source": [
    "vac_slots"
   ]
  },
  {
   "cell_type": "code",
   "execution_count": 45,
   "metadata": {},
   "outputs": [
    {
     "data": {
      "text/plain": [
       "{'Jess': 'weekend9',\n",
       " 'Deenah': 'weekday11',\n",
       " 'Paul': 'weekend12',\n",
       " 'Erin': 'weekend13'}"
      ]
     },
     "execution_count": 45,
     "metadata": {},
     "output_type": "execute_result"
    }
   ],
   "source": [
    "dict(zip(vac_slots.Person,vac_slots.callshiftassignment))"
   ]
  },
  {
   "cell_type": "code",
   "execution_count": 52,
   "metadata": {},
   "outputs": [
    {
     "data": {
      "text/plain": [
       "{'callshiftassignment': {'Jess': 'weekend9',\n",
       "  'Deenah': 'weekday11',\n",
       "  'Paul': 'weekend12',\n",
       "  'Erin': 'weekend13'}}"
      ]
     },
     "execution_count": 52,
     "metadata": {},
     "output_type": "execute_result"
    }
   ],
   "source": [
    "vac_slots.set_index('Person').to_dict()"
   ]
  },
  {
   "cell_type": "code",
   "execution_count": 71,
   "metadata": {},
   "outputs": [
    {
     "data": {
      "text/html": [
       "<div>\n",
       "<style scoped>\n",
       "    .dataframe tbody tr th:only-of-type {\n",
       "        vertical-align: middle;\n",
       "    }\n",
       "\n",
       "    .dataframe tbody tr th {\n",
       "        vertical-align: top;\n",
       "    }\n",
       "\n",
       "    .dataframe thead th {\n",
       "        text-align: right;\n",
       "    }\n",
       "</style>\n",
       "<table border=\"1\" class=\"dataframe\">\n",
       "  <thead>\n",
       "    <tr style=\"text-align: right;\">\n",
       "      <th></th>\n",
       "      <th>callshiftassignment</th>\n",
       "      <th>Person</th>\n",
       "    </tr>\n",
       "  </thead>\n",
       "  <tbody>\n",
       "    <tr>\n",
       "      <th>0</th>\n",
       "      <td>weekend8</td>\n",
       "      <td>Jess</td>\n",
       "    </tr>\n",
       "    <tr>\n",
       "      <th>2</th>\n",
       "      <td>weekday8</td>\n",
       "      <td>Jess</td>\n",
       "    </tr>\n",
       "    <tr>\n",
       "      <th>7</th>\n",
       "      <td>weekend9</td>\n",
       "      <td>Jess</td>\n",
       "    </tr>\n",
       "    <tr>\n",
       "      <th>9</th>\n",
       "      <td>weekend10</td>\n",
       "      <td>Deenah</td>\n",
       "    </tr>\n",
       "    <tr>\n",
       "      <th>11</th>\n",
       "      <td>weekday10</td>\n",
       "      <td>Deenah</td>\n",
       "    </tr>\n",
       "    <tr>\n",
       "      <th>16</th>\n",
       "      <td>weekend11</td>\n",
       "      <td>Deenah</td>\n",
       "    </tr>\n",
       "    <tr>\n",
       "      <th>17</th>\n",
       "      <td>weekend11</td>\n",
       "      <td>Paul</td>\n",
       "    </tr>\n",
       "    <tr>\n",
       "      <th>20</th>\n",
       "      <td>weekday11</td>\n",
       "      <td>Deenah</td>\n",
       "    </tr>\n",
       "    <tr>\n",
       "      <th>26</th>\n",
       "      <td>weekend12</td>\n",
       "      <td>Erin</td>\n",
       "    </tr>\n",
       "    <tr>\n",
       "      <th>21</th>\n",
       "      <td>weekday11</td>\n",
       "      <td>Paul</td>\n",
       "    </tr>\n",
       "    <tr>\n",
       "      <th>27</th>\n",
       "      <td>weekend12</td>\n",
       "      <td>Paul</td>\n",
       "    </tr>\n",
       "    <tr>\n",
       "      <th>30</th>\n",
       "      <td>weekday12</td>\n",
       "      <td>Erin</td>\n",
       "    </tr>\n",
       "    <tr>\n",
       "      <th>35</th>\n",
       "      <td>weekend13</td>\n",
       "      <td>Erin</td>\n",
       "    </tr>\n",
       "  </tbody>\n",
       "</table>\n",
       "</div>"
      ],
      "text/plain": [
       "   callshiftassignment  Person\n",
       "0             weekend8    Jess\n",
       "2             weekday8    Jess\n",
       "7             weekend9    Jess\n",
       "9            weekend10  Deenah\n",
       "11           weekday10  Deenah\n",
       "16           weekend11  Deenah\n",
       "17           weekend11    Paul\n",
       "20           weekday11  Deenah\n",
       "26           weekend12    Erin\n",
       "21           weekday11    Paul\n",
       "27           weekend12    Paul\n",
       "30           weekday12    Erin\n",
       "35           weekend13    Erin"
      ]
     },
     "execution_count": 71,
     "metadata": {},
     "output_type": "execute_result"
    }
   ],
   "source": [
    "vac_slots"
   ]
  },
  {
   "cell_type": "code",
   "execution_count": 74,
   "metadata": {},
   "outputs": [],
   "source": [
    "#write the scheduled vacation weeks into a dict\n",
    "#this shows which weeks/weekends people cannot work\n",
    "vac_weeks = {}\n",
    "for row in vac_slots.index:\n",
    "    \n",
    "    data = vac_slots.loc[row]\n",
    "    if data[1] not in vac_weeks:\n",
    "        vac_weeks[data[1]]= [data[0]]\n",
    "\n",
    "    if data[1] in vac_weeks:\n",
    "        if data[0] not in vac_weeks[data[1]]:\n",
    "            vac_weeks[data[1]].append(data[0])"
   ]
  },
  {
   "cell_type": "code",
   "execution_count": 75,
   "metadata": {},
   "outputs": [
    {
     "data": {
      "text/plain": [
       "{'Jess': ['weekend8', 'weekday8', 'weekend9'],\n",
       " 'Deenah': ['weekend10', 'weekday10', 'weekend11', 'weekday11'],\n",
       " 'Paul': ['weekend11', 'weekday11', 'weekend12'],\n",
       " 'Erin': ['weekend12', 'weekday12', 'weekend13']}"
      ]
     },
     "execution_count": 75,
     "metadata": {},
     "output_type": "execute_result"
    }
   ],
   "source": [
    "vac_weeks"
   ]
  },
  {
   "cell_type": "code",
   "execution_count": 79,
   "metadata": {},
   "outputs": [],
   "source": [
    "potential_call = days.callshiftassignment.drop_duplicates()"
   ]
  },
  {
   "cell_type": "code",
   "execution_count": 85,
   "metadata": {},
   "outputs": [],
   "source": [
    "#determine which weeks/weekends people can work\n",
    "#construct a dict of potential call weeks/weekends\n",
    "not_vac_weeks = {}\n",
    "\n",
    "for person in vac_weeks:\n",
    "    for week in potential_call:\n",
    "\n",
    "        #create first entry\n",
    "        if person not in not_vac_weeks:\n",
    "            if week not in vac_weeks[person]:\n",
    "                not_vac_weeks[person] = [week]\n",
    "\n",
    "        if person in not_vac_weeks:\n",
    "            if week not in vac_weeks[person]:\n",
    "                if week not in not_vac_weeks[person]:\n",
    "                    not_vac_weeks[person].append(week)\n",
    "\n"
   ]
  },
  {
   "cell_type": "code",
   "execution_count": 91,
   "metadata": {},
   "outputs": [
    {
     "data": {
      "text/plain": [
       "['weekday0',\n",
       " 'weekend1',\n",
       " 'weekday1',\n",
       " 'weekend2',\n",
       " 'weekday2',\n",
       " 'weekend3',\n",
       " 'weekday3',\n",
       " 'weekend4',\n",
       " 'weekday4',\n",
       " 'weekend5',\n",
       " 'weekday5',\n",
       " 'weekend7',\n",
       " 'weekday7',\n",
       " 'weekend8',\n",
       " 'weekday8',\n",
       " 'weekend9',\n",
       " 'weekday9',\n",
       " 'weekend10',\n",
       " 'weekday10',\n",
       " 'weekday12',\n",
       " 'weekend13']"
      ]
     },
     "execution_count": 91,
     "metadata": {},
     "output_type": "execute_result"
    }
   ],
   "source": [
    "not_vac_weeks['Paul']"
   ]
  },
  {
   "cell_type": "code",
   "execution_count": 92,
   "metadata": {},
   "outputs": [
    {
     "data": {
      "text/plain": [
       "['weekend11', 'weekday11', 'weekend12']"
      ]
     },
     "execution_count": 92,
     "metadata": {},
     "output_type": "execute_result"
    }
   ],
   "source": [
    "vac_weeks['Paul']"
   ]
  }
 ],
 "metadata": {
  "interpreter": {
   "hash": "f1a4a4f144332a771e00e7433ba769f3488621905bd9605b0b008be2dfad0e0c"
  },
  "kernelspec": {
   "display_name": "Python 3.8.3 ('base')",
   "language": "python",
   "name": "python3"
  },
  "language_info": {
   "codemirror_mode": {
    "name": "ipython",
    "version": 3
   },
   "file_extension": ".py",
   "mimetype": "text/x-python",
   "name": "python",
   "nbconvert_exporter": "python",
   "pygments_lexer": "ipython3",
   "version": "3.8.3"
  },
  "orig_nbformat": 4
 },
 "nbformat": 4,
 "nbformat_minor": 2
}
